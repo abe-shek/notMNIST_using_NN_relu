{
 "cells": [
  {
   "cell_type": "code",
   "execution_count": 2,
   "metadata": {},
   "outputs": [],
   "source": [
    "import numpy as np\n",
    "from __future__ import print_function\n",
    "import tensorflow as tf\n",
    "from six.moves import cPickle as pickle\n",
    "from six.moves import range"
   ]
  },
  {
   "cell_type": "code",
   "execution_count": 3,
   "metadata": {},
   "outputs": [
    {
     "data": {
      "text/plain": [
       "(200000, 28, 28)"
      ]
     },
     "execution_count": 3,
     "metadata": {},
     "output_type": "execute_result"
    }
   ],
   "source": [
    "pickle_file = 'notMNIST.pickle'\n",
    "try:\n",
    "    f = open(pickle_file,'rb')\n",
    "    save = pickle.load(f)\n",
    "    train_dataset = save['train_dataset']\n",
    "    train_labels = save['train_labels']\n",
    "    valid_dataset = save['valid_dataset']\n",
    "    valid_labels = save['valid_labels']\n",
    "    test_dataset = save['test_dataset']\n",
    "    test_labels = save['test_labels']\n",
    "    \n",
    "except Exception as e:\n",
    "    print(e)\n",
    "    raise\n",
    "\n",
    "train_dataset.shape"
   ]
  },
  {
   "cell_type": "code",
   "execution_count": 4,
   "metadata": {},
   "outputs": [
    {
     "name": "stdout",
     "output_type": "stream",
     "text": [
      "Training data  (200000, 784) (200000, 10)\n",
      "Validation data  (10000, 784) (10000, 784)\n",
      "Testing data  (10000, 784) (10000, 10)\n"
     ]
    }
   ],
   "source": [
    "image_size = 28\n",
    "num_labels = 10\n",
    "\n",
    "def reformat(dataset,labels):\n",
    "    dataset = dataset.reshape((-1,image_size*image_size)).astype(np.float32)\n",
    "    labels = (np.arange(num_labels) == labels[:,None]).astype(np.float32)\n",
    "    return dataset,labels\n",
    "\n",
    "train_dataset, train_labels = reformat(train_dataset,train_labels)\n",
    "valid_dataset, valid_labels = reformat(valid_dataset,valid_labels)\n",
    "test_dataset, test_labels = reformat(test_dataset,test_labels)\n",
    "\n",
    "print(\"Training data \", train_dataset.shape, train_labels.shape)\n",
    "print(\"Validation data \", valid_dataset.shape, valid_dataset.shape)\n",
    "print(\"Testing data \", test_dataset.shape, test_labels.shape)\n",
    "\n",
    "def accuracy(predictions, labels):\n",
    "  return (100.0 * np.sum(np.argmax(predictions, 1) == np.argmax(labels, 1))\n",
    "          / predictions.shape[0])"
   ]
  },
  {
   "cell_type": "code",
   "execution_count": 61,
   "metadata": {},
   "outputs": [],
   "source": [
    "num_hidden_units = 1024\n",
    "batch_size = 128\n",
    "\n",
    "\n",
    "graph = tf.Graph()\n",
    "\n",
    "with graph.as_default():\n",
    "    tensor_training_data = tf.placeholder(np.float32,shape=(batch_size, (image_size*image_size)))\n",
    "    tensor_training_labels = tf.placeholder(np.float32,shape=(batch_size,num_labels))\n",
    "    tensor_validation_data = tf.constant(valid_dataset)\n",
    "    tensor_validation_labels = tf.constant(valid_labels)\n",
    "    tensor_testing_data = tf.constant(test_dataset)\n",
    "    tensor_testing_labels = tf.constant(test_labels)\n",
    "    \n",
    "    weights_10 = tf.Variable(tf.truncated_normal([(image_size*image_size),num_hidden_units]))\n",
    "    biases_0 = tf.Variable(tf.random_normal([num_hidden_units],seed=128))\n",
    "    \n",
    "    weights_21 = tf.Variable(tf.truncated_normal([num_hidden_units,num_labels]))\n",
    "    biases_1 = tf.Variable(tf.random_normal([num_labels],seed=128))\n",
    "    \n",
    "    hidden_layer = tf.nn.dropout(tf.nn.relu(tf.matmul(tensor_training_data, weights_10)+biases_0),keep_prob=0.5)\n",
    "    logits = tf.matmul(hidden_layer,weights_21) + biases_1\n",
    "    \n",
    "    loss = tf.reduce_mean(tf.nn.softmax_cross_entropy_with_logits_v2(labels=tensor_training_labels, logits=logits))\n",
    "    optimizer = tf.train.GradientDescentOptimizer(0.01).minimize(loss)\n",
    "    \n",
    "    training_predictions = tf.nn.softmax(logits)\n",
    "    validation_predictions =tf.nn.softmax(\n",
    "        tf.matmul(\n",
    "            tf.nn.relu(\n",
    "                tf.matmul(tensor_validation_data,weights_10)+biases_0\n",
    "                    ),weights_21)+biases_1)\n",
    "    testing_predictions =tf.nn.softmax(tf.matmul(tf.nn.relu(tf.matmul(tensor_testing_data,weights_10)+biases_0),weights_21)+biases_1)\n",
    "    "
   ]
  },
  {
   "cell_type": "code",
   "execution_count": 62,
   "metadata": {},
   "outputs": [
    {
     "name": "stdout",
     "output_type": "stream",
     "text": [
      "Initialized\n",
      "Loss at step 0: 494.785339\n",
      "Training accuracy: 3.9%\n",
      "Validation accuracy: 8.7%\n",
      "Loss at step 500: 75.944183\n",
      "Training accuracy: 71.1%\n",
      "Validation accuracy: 80.2%\n",
      "Loss at step 1000: 67.614471\n",
      "Training accuracy: 74.2%\n",
      "Validation accuracy: 81.8%\n",
      "Loss at step 1500: 49.804466\n",
      "Training accuracy: 77.3%\n",
      "Validation accuracy: 82.6%\n",
      "Loss at step 2000: 46.611912\n",
      "Training accuracy: 77.3%\n",
      "Validation accuracy: 82.8%\n",
      "Loss at step 2500: 43.984276\n",
      "Training accuracy: 71.9%\n",
      "Validation accuracy: 83.2%\n",
      "Loss at step 3000: 40.199646\n",
      "Training accuracy: 78.1%\n",
      "Validation accuracy: 83.7%\n",
      "Testing accuracy: 90.2%\n"
     ]
    }
   ],
   "source": [
    "num_steps = 3001\n",
    "training_acc = []\n",
    "validation_acc = []\n",
    "loss_values = []\n",
    "steps_count = []\n",
    "\n",
    "with tf.Session(graph=graph) as session:\n",
    "    tf.global_variables_initializer().run()\n",
    "    print(\"Initialized\")\n",
    "    for step in range(num_steps):\n",
    "        offset = (step * batch_size) % (train_labels.shape[0] - batch_size)\n",
    "        batch_training_data = train_dataset[offset:(offset+batch_size),:]\n",
    "        batch_training_labels = train_labels[offset:(offset+batch_size),:]\n",
    "        feed_dict = {tensor_training_data : batch_training_data, tensor_training_labels : batch_training_labels}\n",
    "        \n",
    "        _,l,predictions = session.run([optimizer,loss,training_predictions], feed_dict=feed_dict)\n",
    "        \n",
    "        if step%500 == 0:\n",
    "            print(\"Loss at step %d: %f\" % (step,l))\n",
    "            loss_values.append(l)\n",
    "            t_acc = accuracy(predictions,batch_training_labels)\n",
    "            v_acc = accuracy(validation_predictions.eval(),valid_labels)\n",
    "            training_acc.append(t_acc)\n",
    "            validation_acc.append(v_acc)\n",
    "            steps_count.append(step)\n",
    "            print(\"Training accuracy: %.1f%%\" % t_acc)\n",
    "            print(\"Validation accuracy: %.1f%%\" % v_acc)\n",
    "    print(\"Testing accuracy: %.1f%%\" % accuracy(testing_predictions.eval(),test_labels))"
   ]
  }
 ],
 "metadata": {
  "kernelspec": {
   "display_name": "Python 3",
   "language": "python",
   "name": "python3"
  },
  "language_info": {
   "codemirror_mode": {
    "name": "ipython",
    "version": 3
   },
   "file_extension": ".py",
   "mimetype": "text/x-python",
   "name": "python",
   "nbconvert_exporter": "python",
   "pygments_lexer": "ipython3",
   "version": "3.6.4"
  }
 },
 "nbformat": 4,
 "nbformat_minor": 2
}
