{
 "cells": [
  {
   "cell_type": "code",
   "execution_count": null,
   "metadata": {},
   "outputs": [],
   "source": [
    "import numpy as np\n",
    "from __future__ import print_function\n",
    "import tensorflow as tf\n",
    "from six.moves import cPickle as pickle\n",
    "from six.moves import range"
   ]
  },
  {
   "cell_type": "code",
   "execution_count": null,
   "metadata": {},
   "outputs": [],
   "source": [
    "pickle_file = 'notMNIST.pickle'\n",
    "try:\n",
    "    f = open(pickle_file,'rb')\n",
    "    save = pickle.load(f)\n",
    "    train_dataset = save['train_dataset']\n",
    "    train_labels = save['train_labels']\n",
    "    valid_dataset = save['valid_dataset']\n",
    "    valid_labels = save['valid_labels']\n",
    "    test_dataset = save['test_dataset']\n",
    "    test_labels = save['test_labels']\n",
    "    \n",
    "except Exception as e:\n",
    "    print(e)\n",
    "    raise\n",
    "\n",
    "train_dataset.shape"
   ]
  },
  {
   "cell_type": "code",
   "execution_count": null,
   "metadata": {},
   "outputs": [],
   "source": [
    "num_steps = 801\n",
    "\n",
    "def accuracy(predictions, labels):\n",
    "  return (100.0 * np.sum(np.argmax(predictions, 1) == np.argmax(labels, 1))\n",
    "          / predictions.shape[0])\n",
    "\n",
    "with tf.Session(graph=graph) as session:\n",
    "    tf.global_variables_initializer().run()\n",
    "    print(\"Initialized\")\n",
    "    for step in range(num_steps):\n",
    "        _,l,predictions = session.run([optimize,loss,train_predictions])\n",
    "        if step%100 == 0:\n",
    "            print('Loss at step %d: %f' % (step, l))\n",
    "            print('Training accuracy: %.1f%%' % accuracy(predictions, train_labels[:train_subset, :]))\n",
    "            print('Validation accuracy: %.1f%%' % accuracy(validation_predictions.eval(), valid_labels))\n",
    "    print('Test accuracy: %.1f%%' % accuracy(testing_predictions.eval(), test_labels))"
   ]
  },
  {
   "cell_type": "code",
   "execution_count": null,
   "metadata": {},
   "outputs": [],
   "source": [
    "image_size = 28\n",
    "num_hidden_units = 1024\n",
    "num_labels = 10\n",
    "batch_size = 128\n",
    "\n",
    "graph = tf.Graph()\n",
    "\n",
    "with graph.as_default():\n",
    "    tensor_training_data = tf.placeholder(np.float32,shape=(batch_size, (image_size*image_size)))\n",
    "    tensor_training_labels = tf.placeholder(np.float32,shape=(batch_size,num_labels))\n",
    "    tensor_validation_data = tf.constant(valid_dataset)\n",
    "    tensor_validation_labels = tf.constant(valid_labels)\n",
    "    tensor_testing_data = tf.constant(test_dataset)\n",
    "    tensor_testing_labels = tf.constant(test_labels)\n",
    "    \n",
    "    weights_10 = tf.Variable(tf.truncated_normal([(image_size*image_size),num_hidden_units]))\n",
    "    biases_0 = tf.Variable(tf.random_normal([num_hidden_units],seed=128))\n",
    "    \n",
    "    weights_21 = tf.Variable(tf.truncated_normal([num_hidden_units,num_labels]))\n",
    "    biases_1 = tf.Variable(tf.random_normal([num_labels],seed=128))\n",
    "    \n",
    "    hidden_layer = tf.nn.relu(tf.matmul(tensor_training_data, weights_10)+biases_0)\n",
    "    logits = tf.matmul(hidden_layer,weights_21) + biases_1\n",
    "    \n",
    "    loss = tf.reduce_mean(tf.nn.softmax_cross_entropy_with_logits_v2(labels=tensor_training_labels, logits=logits))\n",
    "    l2_norm = tf.nn.l2_loss(weights_21) + tf.nn.l2_loss(weights_10)\n",
    "    optimizer = tf.train.GradientDescentOptimizer(0.1).minimize(loss)\n",
    "    \n",
    "    training_predictions = tf.nn.softmax(logits)\n",
    "    validation_predictions =tf.nn.softmax(tf.matmul(tf.nn.relu(tf.matmul(tensor_validation_data,weights_10)+biases_0),weights_21)+biases_1)\n",
    "    testing_predictions =tf.nn.softmax(tf.matmul(tf.nn.relu(tf.matmul(tensor_testing_data,weights_10)+biases_0),weights_21)+biases_1)\n",
    "    "
   ]
  },
  {
   "cell_type": "code",
   "execution_count": null,
   "metadata": {},
   "outputs": [],
   "source": [
    "num_steps = 3001\n",
    "\n",
    "with tf.Session(graph=graph) as session:\n",
    "    tf.global_variables_initializer().run()\n",
    "    print(\"Initialized\")\n",
    "    for step in range(num_steps):\n",
    "        offset = (step * batch_size) % (train_labels.shape[0] - batch_size)\n",
    "        batch_training_data = train_dataset[offset:(offset+batch_size),:]\n",
    "        batch_training_labels = train_labels[offset:(offset+batch_size),:]\n",
    "        feed_dict = {tensor_training_data : batch_training_data, tensor_training_labels : batch_training_labels}\n",
    "        \n",
    "        _,l,predictions = session.run([optimizer,loss,training_predictions], feed_dict=feed_dict)\n",
    "        \n",
    "        if step%500 == 0:\n",
    "            print(\"Loss at step %d: %f\" % (step,l))\n",
    "            print(\"Training accuracy: %.1f%%\" % accuracy(predictions,batch_labels))\n",
    "            print(\"Validation accuracy: %.1f%%\" % accuracy(validation_predictions.eval(),valid_labels))\n",
    "    print(\"Testing accuracy: %.1f%%\" % accuracy(testing_predictions.eval(),test_labels))"
   ]
  }
 ],
 "metadata": {
  "kernelspec": {
   "display_name": "Python 3",
   "language": "python",
   "name": "python3"
  },
  "language_info": {
   "codemirror_mode": {
    "name": "ipython",
    "version": 3
   },
   "file_extension": ".py",
   "mimetype": "text/x-python",
   "name": "python",
   "nbconvert_exporter": "python",
   "pygments_lexer": "ipython3",
   "version": "3.6.4"
  }
 },
 "nbformat": 4,
 "nbformat_minor": 2
}
